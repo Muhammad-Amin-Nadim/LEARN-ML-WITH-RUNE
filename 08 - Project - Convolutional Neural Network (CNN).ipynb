{
 "cells": [
  {
   "cell_type": "markdown",
   "id": "4e33b771",
   "metadata": {},
   "source": [
    "# Project: Create a Convolutional Neural Network\n",
    "- We will create a model on the [CIFAR-10 dataset](https://www.cs.toronto.edu/%7Ekriz/cifar.html)"
   ]
  },
  {
   "cell_type": "markdown",
   "id": "b7fedd3b",
   "metadata": {},
   "source": [
    "### Step 1: Import libraries"
   ]
  },
  {
   "cell_type": "code",
   "execution_count": 1,
   "id": "d3fee79d",
   "metadata": {},
   "outputs": [],
   "source": [
    "import tensorflow as tf\n",
    "from tensorflow.keras import datasets, layers, models\n",
    "from tensorflow.keras.models import Sequential\n",
    "from tensorflow.keras.layers import Conv2D, MaxPooling2D, Flatten, Dense\n",
    "import matplotlib.pyplot as plt\n",
    "%matplotlib inline"
   ]
  },
  {
   "cell_type": "markdown",
   "id": "9c50bbdb",
   "metadata": {},
   "source": [
    "### Step 2: Download the CIFAR10 dataset\n",
    "- Excute the cell below"
   ]
  },
  {
   "cell_type": "code",
   "execution_count": 2,
   "id": "12ba9d03",
   "metadata": {},
   "outputs": [
    {
     "name": "stdout",
     "output_type": "stream",
     "text": [
      "Downloading data from https://www.cs.toronto.edu/~kriz/cifar-10-python.tar.gz\n",
      "170498071/170498071 [==============================] - 136s 1us/step\n"
     ]
    }
   ],
   "source": [
    "(train_images, train_labels), (test_images, test_labels) = datasets.cifar10.load_data()"
   ]
  },
  {
   "cell_type": "markdown",
   "id": "30cf23b4",
   "metadata": {},
   "source": [
    "### Step 3: Normalize the pixels\n",
    "- Divide the **train_images** and **test_images** with 255 to normalize them between 0 and 1."
   ]
  },
  {
   "cell_type": "code",
   "execution_count": 3,
   "id": "7ae75cac",
   "metadata": {},
   "outputs": [],
   "source": [
    "train_images = train_images / 255.0\n",
    "test_images = test_images / 255.0"
   ]
  },
  {
   "cell_type": "code",
   "execution_count": null,
   "id": "d8910cbe",
   "metadata": {},
   "outputs": [],
   "source": []
  },
  {
   "cell_type": "markdown",
   "id": "1888712c",
   "metadata": {},
   "source": [
    "### Step 4: Get the class names of the labels\n",
    "- Make a class name conversion.\n",
    "    - HINT: make a list with the name **class_names = ['airplane', 'automobile', 'bird', 'cat', 'deer', 'dog', 'frog', 'horse', 'ship', 'truck']**\n",
    "- How to use the name conversion.\n",
    "    - **class_names[int(train_labels[index])]**\n",
    "- How to show an image\n",
    "    - **plt.imshow(train_images[index])**"
   ]
  },
  {
   "cell_type": "code",
   "execution_count": 4,
   "id": "1fda0b89",
   "metadata": {},
   "outputs": [],
   "source": [
    "class_names = ['airplane', 'automobile', 'bird', 'cat', 'deer', 'dog', 'frog', 'horse', 'ship', 'truck']"
   ]
  },
  {
   "cell_type": "code",
   "execution_count": 5,
   "id": "c54fb0e9",
   "metadata": {},
   "outputs": [
    {
     "data": {
      "text/plain": [
       "'truck'"
      ]
     },
     "execution_count": 5,
     "metadata": {},
     "output_type": "execute_result"
    },
    {
     "data": {
      "image/png": "[encoded data removed]",
      "text/plain": [
       "<Figure size 640x480 with 1 Axes>"
      ]
     },
     "metadata": {},
     "output_type": "display_data"
    }
   ],
   "source": [
    "index = 1\n",
    "plt.imshow(train_images[index])\n",
    "class_names[int(train_labels[index])]"
   ]
  },
  {
   "cell_type": "markdown",
   "id": "1a1e2ad7",
   "metadata": {},
   "source": [
    "### Step 5: Create a model\n",
    "- Create a **Sequential** model\n",
    "    - **Conv2D** with 32 and (3, 3),  **activation='relu', input_shape=(32, 32, 3)**\n",
    "    - **MaxPooling2D** with (2, 2)\n",
    "    - **Conv2D** with 64 and (3, 3),  **activation='relu'**\n",
    "    - **MaxPooling2D** with (2, 2)\n",
    "    - **Conv2D** with 64 and (3, 3),  **activation='relu'**\n",
    "    - **Flatten**\n",
    "    - **Dense** with 64 nodes with **input_dim=4, activaition='relu'**\n",
    "    - **Dense** with 10 (the output node)**\n",
    "- Complie the model with **optimizer='adam', loss=tf.keras.losses.SparseCategoricalCrossentropy(from_logits=True), metrics=['accuracy']**"
   ]
  },
  {
   "cell_type": "code",
   "execution_count": 6,
   "id": "6f9cce23",
   "metadata": {},
   "outputs": [],
   "source": [
    "model = Sequential()\n",
    "model.add(layers.Conv2D(32, (3, 3), activation='relu', input_shape=(32, 32, 3)))\n",
    "model.add(layers.MaxPooling2D((2, 2)))\n",
    "model.add(layers.Conv2D(64, (3, 3), activation='relu'))\n",
    "model.add(layers.MaxPooling2D((2, 2)))\n",
    "model.add(layers.Conv2D(64, (3, 3), activation='relu'))\n",
    "model.add(layers.Flatten())\n",
    "model.add(layers.Dense(64, input_dim=4, activation='relu'))\n",
    "model.add(layers.Dense(10))\n",
    "\n",
    "model.compile(optimizer='adam', loss=tf.keras.losses.SparseCategoricalCrossentropy(from_logits=True), metrics=['accuracy'])"
   ]
  },
  {
   "cell_type": "code",
   "execution_count": null,
   "id": "95f56a82",
   "metadata": {},
   "outputs": [],
   "source": []
  },
  {
   "cell_type": "markdown",
   "id": "c885d22d",
   "metadata": {},
   "source": [
    "### Step 6: Train the model\n",
    "- Fit the model with **train_images, train_labels, epochs=10** and **validation_data=(test_images, test_labels)**"
   ]
  },
  {
   "cell_type": "code",
   "execution_count": 7,
   "id": "85e6f867",
   "metadata": {},
   "outputs": [
    {
     "name": "stdout",
     "output_type": "stream",
     "text": [
      "Epoch 1/10\n",
      "1563/1563 [==============================] - 158s 94ms/step - loss: 1.5443 - accuracy: 0.4351 - val_loss: 1.2495 - val_accuracy: 0.5581\n",
      "Epoch 2/10\n",
      "1563/1563 [==============================] - 142s 91ms/step - loss: 1.1658 - accuracy: 0.5890 - val_loss: 1.1194 - val_accuracy: 0.5980\n",
      "Epoch 3/10\n",
      "1563/1563 [==============================] - 118s 76ms/step - loss: 1.0163 - accuracy: 0.6424 - val_loss: 1.0390 - val_accuracy: 0.6301\n",
      "Epoch 4/10\n",
      "1563/1563 [==============================] - 104s 66ms/step - loss: 0.9226 - accuracy: 0.6768 - val_loss: 0.9504 - val_accuracy: 0.6652\n",
      "Epoch 5/10\n",
      "1563/1563 [==============================] - 84s 54ms/step - loss: 0.8554 - accuracy: 0.7003 - val_loss: 0.9459 - val_accuracy: 0.6717\n",
      "Epoch 6/10\n",
      "1563/1563 [==============================] - 82s 53ms/step - loss: 0.7975 - accuracy: 0.7208 - val_loss: 0.8979 - val_accuracy: 0.6903\n",
      "Epoch 7/10\n",
      "1563/1563 [==============================] - 90s 58ms/step - loss: 0.7472 - accuracy: 0.7384 - val_loss: 0.9281 - val_accuracy: 0.6868\n",
      "Epoch 8/10\n",
      "1563/1563 [==============================] - 80s 51ms/step - loss: 0.7061 - accuracy: 0.7537 - val_loss: 0.8863 - val_accuracy: 0.6974\n",
      "Epoch 9/10\n",
      "1563/1563 [==============================] - 66s 42ms/step - loss: 0.6657 - accuracy: 0.7672 - val_loss: 0.8808 - val_accuracy: 0.6941\n",
      "Epoch 10/10\n",
      "1563/1563 [==============================] - 64s 41ms/step - loss: 0.6321 - accuracy: 0.7781 - val_loss: 0.8318 - val_accuracy: 0.7193\n"
     ]
    },
    {
     "data": {
      "text/plain": [
       "<keras.callbacks.History at 0x23faf4111c0>"
      ]
     },
     "execution_count": 7,
     "metadata": {},
     "output_type": "execute_result"
    }
   ],
   "source": [
    "model.fit(train_images, train_labels, epochs=10, validation_data=(test_images, test_labels))"
   ]
  },
  {
   "cell_type": "code",
   "execution_count": null,
   "id": "fcb2b2c1",
   "metadata": {},
   "outputs": [],
   "source": []
  },
  {
   "cell_type": "markdown",
   "id": "0c23d005",
   "metadata": {},
   "source": [
    "### Stpe 7: Test the model\n",
    "- Make predictions\n",
    "    - assign the predictions of test_images to a variable\n",
    "- How to test visually\n",
    "    - Assign **index=0**\n",
    "    - Plot the image with **plt.imshow(test_images[index])**\n",
    "    - See the label from prediction by mapping it from **class_names**"
   ]
  },
  {
   "cell_type": "code",
   "execution_count": 8,
   "id": "55a69279",
   "metadata": {},
   "outputs": [
    {
     "name": "stdout",
     "output_type": "stream",
     "text": [
      "313/313 [==============================] - 4s 12ms/step\n"
     ]
    }
   ],
   "source": [
    "y_pred = model.predict(test_images)"
   ]
  },
  {
   "cell_type": "code",
   "execution_count": 9,
   "id": "e1fd751f",
   "metadata": {},
   "outputs": [
    {
     "data": {
      "text/plain": [
       "'truck'"
      ]
     },
     "execution_count": 9,
     "metadata": {},
     "output_type": "execute_result"
    },
    {
     "data": {
      "image/png": "[encoded data removed]",
      "text/plain": [
       "<Figure size 640x480 with 1 Axes>"
      ]
     },
     "metadata": {},
     "output_type": "display_data"
    }
   ],
   "source": [
    "index = 168\n",
    "plt.imshow(test_images[index])\n",
    "class_names[y_pred[index].argmax()]"
   ]
  },
  {
   "cell_type": "code",
   "execution_count": 10,
   "id": "74a652b0",
   "metadata": {},
   "outputs": [
    {
     "data": {
      "text/plain": [
       "[0.8318212628364563, 0.7192999720573425]"
      ]
     },
     "execution_count": 10,
     "metadata": {},
     "output_type": "execute_result"
    }
   ],
   "source": [
    "model.evaluate(test_images, test_labels, verbose=0)"
   ]
  },
  {
   "cell_type": "markdown",
   "id": "52205de0",
   "metadata": {},
   "source": [
    "### Step 8 (Optional): Improve the model\n",
    "- Try to play around with the model to improve the score"
   ]
  },
  {
   "cell_type": "code",
   "execution_count": 11,
   "id": "57a6fd02",
   "metadata": {},
   "outputs": [],
   "source": [
    "model = Sequential()\n",
    "model.add(layers.Conv2D(64, (3, 3), activation='relu', input_shape=(32, 32, 3)))\n",
    "model.add(layers.MaxPooling2D((2, 2)))\n",
    "model.add(layers.Conv2D(64, (3, 3), activation='relu'))\n",
    "model.add(layers.MaxPooling2D((2, 2)))\n",
    "model.add(layers.Conv2D(64, (3, 3), activation='relu'))\n",
    "model.add(layers.Flatten())\n",
    "model.add(layers.Dense(64, input_dim=4, activation='relu'))\n",
    "model.add(layers.Dense(10))\n",
    "\n",
    "model.compile(optimizer='adam', loss=tf.keras.losses.SparseCategoricalCrossentropy(from_logits=True), metrics=['accuracy'])"
   ]
  },
  {
   "cell_type": "code",
   "execution_count": 12,
   "id": "4b272f6f",
   "metadata": {},
   "outputs": [
    {
     "name": "stdout",
     "output_type": "stream",
     "text": [
      "Epoch 1/10\n",
      "1563/1563 [==============================] - 107s 68ms/step - loss: 1.4990 - accuracy: 0.4556 - val_loss: 1.2412 - val_accuracy: 0.5513\n",
      "Epoch 2/10\n",
      "1563/1563 [==============================] - 103s 66ms/step - loss: 1.1454 - accuracy: 0.5963 - val_loss: 1.0930 - val_accuracy: 0.6166\n",
      "Epoch 3/10\n",
      "1563/1563 [==============================] - 102s 65ms/step - loss: 0.9931 - accuracy: 0.6515 - val_loss: 1.0019 - val_accuracy: 0.6556\n",
      "Epoch 4/10\n",
      "1563/1563 [==============================] - 101s 64ms/step - loss: 0.8940 - accuracy: 0.6856 - val_loss: 0.9238 - val_accuracy: 0.6812\n",
      "Epoch 5/10\n",
      "1563/1563 [==============================] - 102s 65ms/step - loss: 0.8178 - accuracy: 0.7134 - val_loss: 0.9965 - val_accuracy: 0.6623\n",
      "Epoch 6/10\n",
      "1563/1563 [==============================] - 100s 64ms/step - loss: 0.7575 - accuracy: 0.7355 - val_loss: 0.8827 - val_accuracy: 0.7007\n",
      "Epoch 7/10\n",
      "1563/1563 [==============================] - 102s 65ms/step - loss: 0.7024 - accuracy: 0.7531 - val_loss: 0.8636 - val_accuracy: 0.7043\n",
      "Epoch 8/10\n",
      "1563/1563 [==============================] - 100s 64ms/step - loss: 0.6603 - accuracy: 0.7686 - val_loss: 0.9310 - val_accuracy: 0.6884\n",
      "Epoch 9/10\n",
      "1563/1563 [==============================] - 101s 65ms/step - loss: 0.6206 - accuracy: 0.7822 - val_loss: 0.8451 - val_accuracy: 0.7210\n",
      "Epoch 10/10\n",
      "1563/1563 [==============================] - 103s 66ms/step - loss: 0.5847 - accuracy: 0.7943 - val_loss: 0.8557 - val_accuracy: 0.7229\n"
     ]
    },
    {
     "data": {
      "text/plain": [
       "<keras.callbacks.History at 0x23fb17ea7c0>"
      ]
     },
     "execution_count": 12,
     "metadata": {},
     "output_type": "execute_result"
    }
   ],
   "source": [
    "model.fit(train_images, train_labels, epochs=10, validation_data=(test_images, test_labels))"
   ]
  },
  {
   "cell_type": "code",
   "execution_count": 13,
   "id": "d75add01",
   "metadata": {},
   "outputs": [
    {
     "name": "stdout",
     "output_type": "stream",
     "text": [
      "313/313 [==============================] - 6s 18ms/step\n"
     ]
    }
   ],
   "source": [
    "y_pred = model.predict(test_images)"
   ]
  },
  {
   "cell_type": "code",
   "execution_count": 14,
   "id": "15f4293e",
   "metadata": {},
   "outputs": [
    {
     "data": {
      "text/plain": [
       "'dog'"
      ]
     },
     "execution_count": 14,
     "metadata": {},
     "output_type": "execute_result"
    },
    {
     "data": {
      "image/png": "[encoded data removed]",
      "text/plain": [
       "<Figure size 640x480 with 1 Axes>"
      ]
     },
     "metadata": {},
     "output_type": "display_data"
    }
   ],
   "source": [
    "index = 168\n",
    "plt.imshow(test_images[index])\n",
    "class_names[y_pred[index].argmax()]"
   ]
  },
  {
   "cell_type": "code",
   "execution_count": 15,
   "id": "2f8ef5c6",
   "metadata": {},
   "outputs": [
    {
     "data": {
      "text/plain": [
       "[0.8556951284408569, 0.7228999733924866]"
      ]
     },
     "execution_count": 15,
     "metadata": {},
     "output_type": "execute_result"
    }
   ],
   "source": [
    "model.evaluate(test_images, test_labels, verbose=0)"
   ]
  }
 ],
 "metadata": {
  "kernelspec": {
   "display_name": "Python 3 (ipykernel)",
   "language": "python",
   "name": "python3"
  },
  "language_info": {
   "codemirror_mode": {
    "name": "ipython",
    "version": 3
   },
   "file_extension": ".py",
   "mimetype": "text/x-python",
   "name": "python",
   "nbconvert_exporter": "python",
   "pygments_lexer": "ipython3",
   "version": "3.9.13"
  }
 },
 "nbformat": 4,
 "nbformat_minor": 5
}
